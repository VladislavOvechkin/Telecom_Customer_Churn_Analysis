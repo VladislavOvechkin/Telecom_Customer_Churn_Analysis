{
 "cells": [
  {
   "cell_type": "markdown",
   "id": "f24a619e",
   "metadata": {},
   "source": [
    "# Анализ причин оттока клиентов телекоммуникационной компании "
   ]
  },
  {
   "cell_type": "markdown",
   "id": "e58756ce",
   "metadata": {},
   "source": [
    "Смоделированные данные об оттоке клиентов телекоммуникационной компании были взяты с сайта https://www.mavenanalytics.io/data-playground. По легенде компания предоставляет телефонные и интернет-услуги 7043 клиентам в Калифорнии. Данные включают подробную информацию о демографии клиентов, местоположении, услугах и текущем статусе. \n",
    "\n",
    "Основные задачи: \n",
    "\n",
    "1. Проанализировать причины ухода клиентов компании. \n",
    "2. Сравнить профили клиентов, отказавшихся от услуг компании и продолжающих ими пользоваться. \n",
    "3. Сделать основные выводы по результатам анализа и определить ключевые направления работы для снижения уровня оттока клиентов."
   ]
  },
  {
   "cell_type": "code",
   "execution_count": 2,
   "id": "99a9d779",
   "metadata": {},
   "outputs": [],
   "source": [
    "import numpy as np \n",
    "import pandas as pd \n",
    "import matplotlib.pyplot as plt \n",
    "import seaborn as sns\n",
    "sns.set(rc={'figure.figsize':(7,5)})"
   ]
  },
  {
   "cell_type": "code",
   "execution_count": 3,
   "id": "d955727c",
   "metadata": {},
   "outputs": [],
   "source": [
    "data = pd.read_csv(\"/Users/vladislavoveckin/Desktop/data analysis/telecom_customer_churn/Telecom+Customer+Churn/telecom_customer_churn.csv\")"
   ]
  },
  {
   "cell_type": "code",
   "execution_count": 4,
   "id": "b7afcee0",
   "metadata": {},
   "outputs": [
    {
     "data": {
      "text/html": [
       "<div>\n",
       "<style scoped>\n",
       "    .dataframe tbody tr th:only-of-type {\n",
       "        vertical-align: middle;\n",
       "    }\n",
       "\n",
       "    .dataframe tbody tr th {\n",
       "        vertical-align: top;\n",
       "    }\n",
       "\n",
       "    .dataframe thead th {\n",
       "        text-align: right;\n",
       "    }\n",
       "</style>\n",
       "<table border=\"1\" class=\"dataframe\">\n",
       "  <thead>\n",
       "    <tr style=\"text-align: right;\">\n",
       "      <th></th>\n",
       "      <th>Customer ID</th>\n",
       "      <th>Gender</th>\n",
       "      <th>Age</th>\n",
       "      <th>Married</th>\n",
       "      <th>Number of Dependents</th>\n",
       "      <th>City</th>\n",
       "      <th>Zip Code</th>\n",
       "      <th>Latitude</th>\n",
       "      <th>Longitude</th>\n",
       "      <th>Number of Referrals</th>\n",
       "      <th>...</th>\n",
       "      <th>Payment Method</th>\n",
       "      <th>Monthly Charge</th>\n",
       "      <th>Total Charges</th>\n",
       "      <th>Total Refunds</th>\n",
       "      <th>Total Extra Data Charges</th>\n",
       "      <th>Total Long Distance Charges</th>\n",
       "      <th>Total Revenue</th>\n",
       "      <th>Customer Status</th>\n",
       "      <th>Churn Category</th>\n",
       "      <th>Churn Reason</th>\n",
       "    </tr>\n",
       "  </thead>\n",
       "  <tbody>\n",
       "    <tr>\n",
       "      <th>0</th>\n",
       "      <td>0002-ORFBO</td>\n",
       "      <td>Female</td>\n",
       "      <td>37</td>\n",
       "      <td>Yes</td>\n",
       "      <td>0</td>\n",
       "      <td>Frazier Park</td>\n",
       "      <td>93225</td>\n",
       "      <td>34.827662</td>\n",
       "      <td>-118.999073</td>\n",
       "      <td>2</td>\n",
       "      <td>...</td>\n",
       "      <td>Credit Card</td>\n",
       "      <td>65.6</td>\n",
       "      <td>593.30</td>\n",
       "      <td>0.00</td>\n",
       "      <td>0</td>\n",
       "      <td>381.51</td>\n",
       "      <td>974.81</td>\n",
       "      <td>Stayed</td>\n",
       "      <td>NaN</td>\n",
       "      <td>NaN</td>\n",
       "    </tr>\n",
       "    <tr>\n",
       "      <th>1</th>\n",
       "      <td>0003-MKNFE</td>\n",
       "      <td>Male</td>\n",
       "      <td>46</td>\n",
       "      <td>No</td>\n",
       "      <td>0</td>\n",
       "      <td>Glendale</td>\n",
       "      <td>91206</td>\n",
       "      <td>34.162515</td>\n",
       "      <td>-118.203869</td>\n",
       "      <td>0</td>\n",
       "      <td>...</td>\n",
       "      <td>Credit Card</td>\n",
       "      <td>-4.0</td>\n",
       "      <td>542.40</td>\n",
       "      <td>38.33</td>\n",
       "      <td>10</td>\n",
       "      <td>96.21</td>\n",
       "      <td>610.28</td>\n",
       "      <td>Stayed</td>\n",
       "      <td>NaN</td>\n",
       "      <td>NaN</td>\n",
       "    </tr>\n",
       "    <tr>\n",
       "      <th>2</th>\n",
       "      <td>0004-TLHLJ</td>\n",
       "      <td>Male</td>\n",
       "      <td>50</td>\n",
       "      <td>No</td>\n",
       "      <td>0</td>\n",
       "      <td>Costa Mesa</td>\n",
       "      <td>92627</td>\n",
       "      <td>33.645672</td>\n",
       "      <td>-117.922613</td>\n",
       "      <td>0</td>\n",
       "      <td>...</td>\n",
       "      <td>Bank Withdrawal</td>\n",
       "      <td>73.9</td>\n",
       "      <td>280.85</td>\n",
       "      <td>0.00</td>\n",
       "      <td>0</td>\n",
       "      <td>134.60</td>\n",
       "      <td>415.45</td>\n",
       "      <td>Churned</td>\n",
       "      <td>Competitor</td>\n",
       "      <td>Competitor had better devices</td>\n",
       "    </tr>\n",
       "    <tr>\n",
       "      <th>3</th>\n",
       "      <td>0011-IGKFF</td>\n",
       "      <td>Male</td>\n",
       "      <td>78</td>\n",
       "      <td>Yes</td>\n",
       "      <td>0</td>\n",
       "      <td>Martinez</td>\n",
       "      <td>94553</td>\n",
       "      <td>38.014457</td>\n",
       "      <td>-122.115432</td>\n",
       "      <td>1</td>\n",
       "      <td>...</td>\n",
       "      <td>Bank Withdrawal</td>\n",
       "      <td>98.0</td>\n",
       "      <td>1237.85</td>\n",
       "      <td>0.00</td>\n",
       "      <td>0</td>\n",
       "      <td>361.66</td>\n",
       "      <td>1599.51</td>\n",
       "      <td>Churned</td>\n",
       "      <td>Dissatisfaction</td>\n",
       "      <td>Product dissatisfaction</td>\n",
       "    </tr>\n",
       "    <tr>\n",
       "      <th>4</th>\n",
       "      <td>0013-EXCHZ</td>\n",
       "      <td>Female</td>\n",
       "      <td>75</td>\n",
       "      <td>Yes</td>\n",
       "      <td>0</td>\n",
       "      <td>Camarillo</td>\n",
       "      <td>93010</td>\n",
       "      <td>34.227846</td>\n",
       "      <td>-119.079903</td>\n",
       "      <td>3</td>\n",
       "      <td>...</td>\n",
       "      <td>Credit Card</td>\n",
       "      <td>83.9</td>\n",
       "      <td>267.40</td>\n",
       "      <td>0.00</td>\n",
       "      <td>0</td>\n",
       "      <td>22.14</td>\n",
       "      <td>289.54</td>\n",
       "      <td>Churned</td>\n",
       "      <td>Dissatisfaction</td>\n",
       "      <td>Network reliability</td>\n",
       "    </tr>\n",
       "  </tbody>\n",
       "</table>\n",
       "<p>5 rows × 38 columns</p>\n",
       "</div>"
      ],
      "text/plain": [
       "  Customer ID  Gender  Age Married  Number of Dependents          City  \\\n",
       "0  0002-ORFBO  Female   37     Yes                     0  Frazier Park   \n",
       "1  0003-MKNFE    Male   46      No                     0      Glendale   \n",
       "2  0004-TLHLJ    Male   50      No                     0    Costa Mesa   \n",
       "3  0011-IGKFF    Male   78     Yes                     0      Martinez   \n",
       "4  0013-EXCHZ  Female   75     Yes                     0     Camarillo   \n",
       "\n",
       "   Zip Code   Latitude   Longitude  Number of Referrals  ...   Payment Method  \\\n",
       "0     93225  34.827662 -118.999073                    2  ...      Credit Card   \n",
       "1     91206  34.162515 -118.203869                    0  ...      Credit Card   \n",
       "2     92627  33.645672 -117.922613                    0  ...  Bank Withdrawal   \n",
       "3     94553  38.014457 -122.115432                    1  ...  Bank Withdrawal   \n",
       "4     93010  34.227846 -119.079903                    3  ...      Credit Card   \n",
       "\n",
       "  Monthly Charge Total Charges  Total Refunds Total Extra Data Charges  \\\n",
       "0           65.6        593.30           0.00                        0   \n",
       "1           -4.0        542.40          38.33                       10   \n",
       "2           73.9        280.85           0.00                        0   \n",
       "3           98.0       1237.85           0.00                        0   \n",
       "4           83.9        267.40           0.00                        0   \n",
       "\n",
       "  Total Long Distance Charges Total Revenue  Customer Status   Churn Category  \\\n",
       "0                      381.51        974.81           Stayed              NaN   \n",
       "1                       96.21        610.28           Stayed              NaN   \n",
       "2                      134.60        415.45          Churned       Competitor   \n",
       "3                      361.66       1599.51          Churned  Dissatisfaction   \n",
       "4                       22.14        289.54          Churned  Dissatisfaction   \n",
       "\n",
       "                    Churn Reason  \n",
       "0                            NaN  \n",
       "1                            NaN  \n",
       "2  Competitor had better devices  \n",
       "3        Product dissatisfaction  \n",
       "4            Network reliability  \n",
       "\n",
       "[5 rows x 38 columns]"
      ]
     },
     "execution_count": 4,
     "metadata": {},
     "output_type": "execute_result"
    }
   ],
   "source": [
    "data.head()"
   ]
  },
  {
   "cell_type": "code",
   "execution_count": 5,
   "id": "9e04a522",
   "metadata": {},
   "outputs": [
    {
     "data": {
      "text/plain": [
       "Customer ID                            0002-ORFBO\n",
       "Gender                                     Female\n",
       "Age                                            37\n",
       "Married                                       Yes\n",
       "Number of Dependents                            0\n",
       "City                                 Frazier Park\n",
       "Zip Code                                    93225\n",
       "Latitude                                34.827662\n",
       "Longitude                             -118.999073\n",
       "Number of Referrals                             2\n",
       "Tenure in Months                                9\n",
       "Offer                                        None\n",
       "Phone Service                                 Yes\n",
       "Avg Monthly Long Distance Charges           42.39\n",
       "Multiple Lines                                 No\n",
       "Internet Service                              Yes\n",
       "Internet Type                               Cable\n",
       "Avg Monthly GB Download                      16.0\n",
       "Online Security                                No\n",
       "Online Backup                                 Yes\n",
       "Device Protection Plan                         No\n",
       "Premium Tech Support                          Yes\n",
       "Streaming TV                                  Yes\n",
       "Streaming Movies                               No\n",
       "Streaming Music                                No\n",
       "Unlimited Data                                Yes\n",
       "Contract                                 One Year\n",
       "Paperless Billing                             Yes\n",
       "Payment Method                        Credit Card\n",
       "Monthly Charge                               65.6\n",
       "Total Charges                               593.3\n",
       "Total Refunds                                 0.0\n",
       "Total Extra Data Charges                        0\n",
       "Total Long Distance Charges                381.51\n",
       "Total Revenue                              974.81\n",
       "Customer Status                            Stayed\n",
       "Churn Category                                NaN\n",
       "Churn Reason                                  NaN\n",
       "Name: 0, dtype: object"
      ]
     },
     "execution_count": 5,
     "metadata": {},
     "output_type": "execute_result"
    }
   ],
   "source": [
    "data.iloc[0]"
   ]
  },
  {
   "cell_type": "code",
   "execution_count": 19,
   "id": "abe9e5cd",
   "metadata": {},
   "outputs": [],
   "source": [
    "data.columns = data.columns.str.replace(\" \", \"_\")"
   ]
  },
  {
   "cell_type": "code",
   "execution_count": 7,
   "id": "df589eea",
   "metadata": {},
   "outputs": [
    {
     "data": {
      "text/plain": [
       "(7043, 38)"
      ]
     },
     "execution_count": 7,
     "metadata": {},
     "output_type": "execute_result"
    }
   ],
   "source": [
    "data.shape"
   ]
  },
  {
   "cell_type": "code",
   "execution_count": 8,
   "id": "61542f8a",
   "metadata": {},
   "outputs": [],
   "source": [
    "features_description = pd.read_csv(\"/Users/vladislavoveckin/Desktop/data analysis/telecom_customer_churn/Telecom+Customer+Churn/telecom_data_dictionary.csv\", encoding=\"cp1252\")"
   ]
  },
  {
   "cell_type": "code",
   "execution_count": 9,
   "id": "f5a5612f",
   "metadata": {},
   "outputs": [],
   "source": [
    "pd.options.display.max_colwidth = 150"
   ]
  },
  {
   "cell_type": "code",
   "execution_count": 10,
   "id": "d1e3ad40",
   "metadata": {},
   "outputs": [
    {
     "data": {
      "text/html": [
       "<div>\n",
       "<style scoped>\n",
       "    .dataframe tbody tr th:only-of-type {\n",
       "        vertical-align: middle;\n",
       "    }\n",
       "\n",
       "    .dataframe tbody tr th {\n",
       "        vertical-align: top;\n",
       "    }\n",
       "\n",
       "    .dataframe thead th {\n",
       "        text-align: right;\n",
       "    }\n",
       "</style>\n",
       "<table border=\"1\" class=\"dataframe\">\n",
       "  <thead>\n",
       "    <tr style=\"text-align: right;\">\n",
       "      <th></th>\n",
       "      <th>Field</th>\n",
       "      <th>Description</th>\n",
       "    </tr>\n",
       "  </thead>\n",
       "  <tbody>\n",
       "    <tr>\n",
       "      <th>0</th>\n",
       "      <td>CustomerID</td>\n",
       "      <td>A unique ID that identifies each customer</td>\n",
       "    </tr>\n",
       "    <tr>\n",
       "      <th>1</th>\n",
       "      <td>Gender</td>\n",
       "      <td>The customer’s gender: Male, Female</td>\n",
       "    </tr>\n",
       "    <tr>\n",
       "      <th>2</th>\n",
       "      <td>Age</td>\n",
       "      <td>The customer’s current age, in years, at the time the fiscal quarter ended (Q2 2022)</td>\n",
       "    </tr>\n",
       "    <tr>\n",
       "      <th>3</th>\n",
       "      <td>Married</td>\n",
       "      <td>Indicates if the customer is married: Yes, No</td>\n",
       "    </tr>\n",
       "    <tr>\n",
       "      <th>4</th>\n",
       "      <td>Number of Dependents</td>\n",
       "      <td>Indicates the number of dependents that live with the customer (dependents could be children, parents, grandparents, etc.)</td>\n",
       "    </tr>\n",
       "    <tr>\n",
       "      <th>5</th>\n",
       "      <td>City</td>\n",
       "      <td>The city of the customer’s primary residence in California</td>\n",
       "    </tr>\n",
       "    <tr>\n",
       "      <th>6</th>\n",
       "      <td>Zip Code</td>\n",
       "      <td>The zip code of the customer’s primary residence</td>\n",
       "    </tr>\n",
       "    <tr>\n",
       "      <th>7</th>\n",
       "      <td>Latitude</td>\n",
       "      <td>The latitude of the customer’s primary residence</td>\n",
       "    </tr>\n",
       "    <tr>\n",
       "      <th>8</th>\n",
       "      <td>Longitude</td>\n",
       "      <td>The longitude of the customer’s primary residence</td>\n",
       "    </tr>\n",
       "    <tr>\n",
       "      <th>9</th>\n",
       "      <td>Number of Referrals</td>\n",
       "      <td>Indicates the number of times the customer has referred a friend or family member to this company to date</td>\n",
       "    </tr>\n",
       "    <tr>\n",
       "      <th>10</th>\n",
       "      <td>Tenure in Months</td>\n",
       "      <td>Indicates the total amount of months that the customer has been with the company by the end of the quarter specified above</td>\n",
       "    </tr>\n",
       "    <tr>\n",
       "      <th>11</th>\n",
       "      <td>Offer</td>\n",
       "      <td>Identifies the last marketing offer that the customer accepted: None, Offer A, Offer B, Offer C, Offer D, Offer E</td>\n",
       "    </tr>\n",
       "    <tr>\n",
       "      <th>12</th>\n",
       "      <td>Phone Service</td>\n",
       "      <td>Indicates if the customer subscribes to home phone service with the company: Yes, No</td>\n",
       "    </tr>\n",
       "    <tr>\n",
       "      <th>13</th>\n",
       "      <td>Avg Monthly Long Distance Charges</td>\n",
       "      <td>Indicates the customer’s average long distance charges, calculated to the end of the quarter specified above (if the customer is not subscribed to...</td>\n",
       "    </tr>\n",
       "    <tr>\n",
       "      <th>14</th>\n",
       "      <td>Multiple Lines</td>\n",
       "      <td>Indicates if the customer subscribes to multiple telephone lines with the company: Yes, No (if the customer is not subscribed to home phone servic...</td>\n",
       "    </tr>\n",
       "    <tr>\n",
       "      <th>15</th>\n",
       "      <td>Internet Service</td>\n",
       "      <td>Indicates if the customer subscribes to Internet service with the company: Yes, No</td>\n",
       "    </tr>\n",
       "    <tr>\n",
       "      <th>16</th>\n",
       "      <td>Internet Type</td>\n",
       "      <td>Indicates the customer's type of internet connection: DSL, Fiber Optic, Cable (if the customer is not subscribed to internet service, this will be...</td>\n",
       "    </tr>\n",
       "    <tr>\n",
       "      <th>17</th>\n",
       "      <td>Avg Monthly GB Download</td>\n",
       "      <td>Indicates the customer’s average download volume in gigabytes, calculated to the end of the quarter specified above (if the customer is not subscr...</td>\n",
       "    </tr>\n",
       "    <tr>\n",
       "      <th>18</th>\n",
       "      <td>Online Security</td>\n",
       "      <td>Indicates if the customer subscribes to an additional online security service provided by the company: Yes, No (if the customer is not subscribed ...</td>\n",
       "    </tr>\n",
       "    <tr>\n",
       "      <th>19</th>\n",
       "      <td>Online Backup</td>\n",
       "      <td>Indicates if the customer subscribes to an additional online backup service provided by the company: Yes, No (if the customer is not subscribed to...</td>\n",
       "    </tr>\n",
       "    <tr>\n",
       "      <th>20</th>\n",
       "      <td>Device Protection Plan</td>\n",
       "      <td>Indicates if the customer subscribes to an additional device protection plan for their Internet equipment provided by the company: Yes, No (if the...</td>\n",
       "    </tr>\n",
       "    <tr>\n",
       "      <th>21</th>\n",
       "      <td>Premium Tech Support</td>\n",
       "      <td>Indicates if the customer subscribes to an additional technical support plan from the company with reduced wait times: Yes, No (if the customer is...</td>\n",
       "    </tr>\n",
       "    <tr>\n",
       "      <th>22</th>\n",
       "      <td>Streaming TV</td>\n",
       "      <td>Indicates if the customer uses their Internet service to stream television programing from a third party provider at no additional fee: Yes, No (i...</td>\n",
       "    </tr>\n",
       "    <tr>\n",
       "      <th>23</th>\n",
       "      <td>Streaming Movies</td>\n",
       "      <td>Indicates if the customer uses their Internet service to stream movies from a third party provider at no additional fee: Yes, No (if the customer ...</td>\n",
       "    </tr>\n",
       "    <tr>\n",
       "      <th>24</th>\n",
       "      <td>Streaming Music</td>\n",
       "      <td>Indicates if the customer uses their Internet service to stream music from a third party provider at no additional fee: Yes, No (if the customer i...</td>\n",
       "    </tr>\n",
       "    <tr>\n",
       "      <th>25</th>\n",
       "      <td>Unlimited Data</td>\n",
       "      <td>Indicates if the customer has paid an additional monthly fee to have unlimited data downloads/uploads: Yes, No (if the customer is not subscribed ...</td>\n",
       "    </tr>\n",
       "    <tr>\n",
       "      <th>26</th>\n",
       "      <td>Contract</td>\n",
       "      <td>Indicates the customer’s current contract type: Month-to-Month, One Year, Two Year</td>\n",
       "    </tr>\n",
       "    <tr>\n",
       "      <th>27</th>\n",
       "      <td>Paperless Billing</td>\n",
       "      <td>Indicates if the customer has chosen paperless billing: Yes, No</td>\n",
       "    </tr>\n",
       "    <tr>\n",
       "      <th>28</th>\n",
       "      <td>Payment Method</td>\n",
       "      <td>Indicates how the customer pays their bill: Bank Withdrawal, Credit Card, Mailed Check</td>\n",
       "    </tr>\n",
       "    <tr>\n",
       "      <th>29</th>\n",
       "      <td>Monthly Charge</td>\n",
       "      <td>Indicates the customer’s current total monthly charge for all their services from the company</td>\n",
       "    </tr>\n",
       "    <tr>\n",
       "      <th>30</th>\n",
       "      <td>Total Charges</td>\n",
       "      <td>Indicates the customer’s total charges, calculated to the end of the quarter specified above</td>\n",
       "    </tr>\n",
       "    <tr>\n",
       "      <th>31</th>\n",
       "      <td>Total Refunds</td>\n",
       "      <td>Indicates the customer’s total refunds, calculated to the end of the quarter specified above</td>\n",
       "    </tr>\n",
       "    <tr>\n",
       "      <th>32</th>\n",
       "      <td>Total Extra Data Charges</td>\n",
       "      <td>Indicates the customer’s total charges for extra data downloads above those specified in their plan, by the end of the quarter specified above</td>\n",
       "    </tr>\n",
       "    <tr>\n",
       "      <th>33</th>\n",
       "      <td>Total Long Distance Charges</td>\n",
       "      <td>Indicates the customer’s total charges for long distance above those specified in their plan, by the end of the quarter specified above</td>\n",
       "    </tr>\n",
       "    <tr>\n",
       "      <th>34</th>\n",
       "      <td>Total Revenue</td>\n",
       "      <td>Indicates the company's total revenue from this customer, calculated to the end of the quarter specified above (Total Charges - Total Refurnds + T...</td>\n",
       "    </tr>\n",
       "    <tr>\n",
       "      <th>35</th>\n",
       "      <td>Customer Status</td>\n",
       "      <td>Indicates the status of the customer at the end of the quarter: Churned, Stayed, or Joined</td>\n",
       "    </tr>\n",
       "    <tr>\n",
       "      <th>36</th>\n",
       "      <td>Churn Category</td>\n",
       "      <td>A high-level category for the customer’s reason for churning, which is asked when they leave the company: Attitude, Competitor, Dissatisfaction, O...</td>\n",
       "    </tr>\n",
       "    <tr>\n",
       "      <th>37</th>\n",
       "      <td>Churn Reason</td>\n",
       "      <td>A customer’s specific reason for leaving the company, which is asked when they leave the company (directly related to Churn Category)</td>\n",
       "    </tr>\n",
       "    <tr>\n",
       "      <th>38</th>\n",
       "      <td>Zip Code</td>\n",
       "      <td>The zip code of the customer’s primary residence</td>\n",
       "    </tr>\n",
       "    <tr>\n",
       "      <th>39</th>\n",
       "      <td>Population</td>\n",
       "      <td>A current population estimate for the entire Zip Code area</td>\n",
       "    </tr>\n",
       "  </tbody>\n",
       "</table>\n",
       "</div>"
      ],
      "text/plain": [
       "                                Field  \\\n",
       "0                          CustomerID   \n",
       "1                              Gender   \n",
       "2                                 Age   \n",
       "3                             Married   \n",
       "4                Number of Dependents   \n",
       "5                                City   \n",
       "6                            Zip Code   \n",
       "7                            Latitude   \n",
       "8                           Longitude   \n",
       "9                 Number of Referrals   \n",
       "10                   Tenure in Months   \n",
       "11                              Offer   \n",
       "12                      Phone Service   \n",
       "13  Avg Monthly Long Distance Charges   \n",
       "14                     Multiple Lines   \n",
       "15                   Internet Service   \n",
       "16                      Internet Type   \n",
       "17            Avg Monthly GB Download   \n",
       "18                    Online Security   \n",
       "19                      Online Backup   \n",
       "20             Device Protection Plan   \n",
       "21               Premium Tech Support   \n",
       "22                       Streaming TV   \n",
       "23                   Streaming Movies   \n",
       "24                    Streaming Music   \n",
       "25                     Unlimited Data   \n",
       "26                           Contract   \n",
       "27                  Paperless Billing   \n",
       "28                     Payment Method   \n",
       "29                     Monthly Charge   \n",
       "30                      Total Charges   \n",
       "31                      Total Refunds   \n",
       "32           Total Extra Data Charges   \n",
       "33        Total Long Distance Charges   \n",
       "34                      Total Revenue   \n",
       "35                    Customer Status   \n",
       "36                     Churn Category   \n",
       "37                       Churn Reason   \n",
       "38                           Zip Code   \n",
       "39                         Population   \n",
       "\n",
       "                                                                                                                                              Description  \n",
       "0                                                                                                               A unique ID that identifies each customer  \n",
       "1                                                                                                                     The customer’s gender: Male, Female  \n",
       "2                                                                    The customer’s current age, in years, at the time the fiscal quarter ended (Q2 2022)  \n",
       "3                                                                                                           Indicates if the customer is married: Yes, No  \n",
       "4                              Indicates the number of dependents that live with the customer (dependents could be children, parents, grandparents, etc.)  \n",
       "5                                                                                              The city of the customer’s primary residence in California  \n",
       "6                                                                                                        The zip code of the customer’s primary residence  \n",
       "7                                                                                                        The latitude of the customer’s primary residence  \n",
       "8                                                                                                       The longitude of the customer’s primary residence  \n",
       "9                                               Indicates the number of times the customer has referred a friend or family member to this company to date  \n",
       "10                             Indicates the total amount of months that the customer has been with the company by the end of the quarter specified above  \n",
       "11                                      Identifies the last marketing offer that the customer accepted: None, Offer A, Offer B, Offer C, Offer D, Offer E  \n",
       "12                                                                   Indicates if the customer subscribes to home phone service with the company: Yes, No  \n",
       "13  Indicates the customer’s average long distance charges, calculated to the end of the quarter specified above (if the customer is not subscribed to...  \n",
       "14  Indicates if the customer subscribes to multiple telephone lines with the company: Yes, No (if the customer is not subscribed to home phone servic...  \n",
       "15                                                                     Indicates if the customer subscribes to Internet service with the company: Yes, No  \n",
       "16  Indicates the customer's type of internet connection: DSL, Fiber Optic, Cable (if the customer is not subscribed to internet service, this will be...  \n",
       "17  Indicates the customer’s average download volume in gigabytes, calculated to the end of the quarter specified above (if the customer is not subscr...  \n",
       "18  Indicates if the customer subscribes to an additional online security service provided by the company: Yes, No (if the customer is not subscribed ...  \n",
       "19  Indicates if the customer subscribes to an additional online backup service provided by the company: Yes, No (if the customer is not subscribed to...  \n",
       "20  Indicates if the customer subscribes to an additional device protection plan for their Internet equipment provided by the company: Yes, No (if the...  \n",
       "21  Indicates if the customer subscribes to an additional technical support plan from the company with reduced wait times: Yes, No (if the customer is...  \n",
       "22  Indicates if the customer uses their Internet service to stream television programing from a third party provider at no additional fee: Yes, No (i...  \n",
       "23  Indicates if the customer uses their Internet service to stream movies from a third party provider at no additional fee: Yes, No (if the customer ...  \n",
       "24  Indicates if the customer uses their Internet service to stream music from a third party provider at no additional fee: Yes, No (if the customer i...  \n",
       "25  Indicates if the customer has paid an additional monthly fee to have unlimited data downloads/uploads: Yes, No (if the customer is not subscribed ...  \n",
       "26                                                                     Indicates the customer’s current contract type: Month-to-Month, One Year, Two Year  \n",
       "27                                                                                        Indicates if the customer has chosen paperless billing: Yes, No  \n",
       "28                                                                 Indicates how the customer pays their bill: Bank Withdrawal, Credit Card, Mailed Check  \n",
       "29                                                          Indicates the customer’s current total monthly charge for all their services from the company  \n",
       "30                                                           Indicates the customer’s total charges, calculated to the end of the quarter specified above  \n",
       "31                                                           Indicates the customer’s total refunds, calculated to the end of the quarter specified above  \n",
       "32         Indicates the customer’s total charges for extra data downloads above those specified in their plan, by the end of the quarter specified above  \n",
       "33                Indicates the customer’s total charges for long distance above those specified in their plan, by the end of the quarter specified above  \n",
       "34  Indicates the company's total revenue from this customer, calculated to the end of the quarter specified above (Total Charges - Total Refurnds + T...  \n",
       "35                                                             Indicates the status of the customer at the end of the quarter: Churned, Stayed, or Joined  \n",
       "36  A high-level category for the customer’s reason for churning, which is asked when they leave the company: Attitude, Competitor, Dissatisfaction, O...  \n",
       "37                  A customer’s specific reason for leaving the company, which is asked when they leave the company (directly related to Churn Category)  \n",
       "38                                                                                                       The zip code of the customer’s primary residence  \n",
       "39                                                                                             A current population estimate for the entire Zip Code area  "
      ]
     },
     "execution_count": 10,
     "metadata": {},
     "output_type": "execute_result"
    }
   ],
   "source": [
    "features_description.drop(columns = \"Table\")"
   ]
  },
  {
   "cell_type": "code",
   "execution_count": 11,
   "id": "5aa4f890",
   "metadata": {},
   "outputs": [
    {
     "data": {
      "text/plain": [
       "46.50972596904728"
      ]
     },
     "execution_count": 11,
     "metadata": {},
     "output_type": "execute_result"
    }
   ],
   "source": [
    "data.Age.mean()"
   ]
  },
  {
   "cell_type": "markdown",
   "id": "ee24cb18",
   "metadata": {},
   "source": [
    "Средний возраст клиентов компании составляет 46.5 лет."
   ]
  },
  {
   "cell_type": "code",
   "execution_count": 12,
   "id": "f47d6eaf",
   "metadata": {},
   "outputs": [
    {
     "data": {
      "text/plain": [
       "No     0.516967\n",
       "Yes    0.483033\n",
       "Name: Married, dtype: float64"
      ]
     },
     "execution_count": 12,
     "metadata": {},
     "output_type": "execute_result"
    }
   ],
   "source": [
    "data.Married.value_counts(normalize=True)"
   ]
  },
  {
   "cell_type": "code",
   "execution_count": 50,
   "id": "a948ff95",
   "metadata": {},
   "outputs": [
    {
     "data": {
      "image/png": "[encoded data removed]",
      "text/plain": [
       "<Figure size 504x360 with 1 Axes>"
      ]
     },
     "metadata": {},
     "output_type": "display_data"
    }
   ],
   "source": [
    "sns.barplot(x = data.Married.value_counts().index, y = data.Married.value_counts().values)\n",
    "plt.title(\"Marriage status of clients\", fontsize=15)\n",
    "plt.ylabel(\"Number\", fontsize=12)\n",
    "plt.show()"
   ]
  },
  {
   "cell_type": "markdown",
   "id": "7bd56c92",
   "metadata": {},
   "source": [
    "С точки зрения семейного статуса, половина клиентов компании состоят в браке. "
   ]
  },
  {
   "cell_type": "code",
   "execution_count": 12,
   "id": "726b6850",
   "metadata": {},
   "outputs": [
    {
     "data": {
      "text/plain": [
       "Los Angeles      293\n",
       "San Diego        285\n",
       "San Jose         112\n",
       "Sacramento       108\n",
       "San Francisco    104\n",
       "Fresno            61\n",
       "Long Beach        60\n",
       "Oakland           52\n",
       "Escondido         51\n",
       "Stockton          44\n",
       "Name: City, dtype: int64"
      ]
     },
     "execution_count": 12,
     "metadata": {},
     "output_type": "execute_result"
    }
   ],
   "source": [
    "data.City.value_counts().head(10)"
   ]
  },
  {
   "cell_type": "markdown",
   "id": "1a6bb3ff",
   "metadata": {},
   "source": [
    "Большинство клиентов, пользующиеся услугами, проживают в таких крупных городах как Лос-Анджелес, Сан-Диего, Сан-Хосе, Сакраменто и Сан-Франциско."
   ]
  },
  {
   "cell_type": "code",
   "execution_count": 28,
   "id": "702fcf4d",
   "metadata": {},
   "outputs": [
    {
     "data": {
      "text/plain": [
       "454"
      ]
     },
     "execution_count": 28,
     "metadata": {},
     "output_type": "execute_result"
    }
   ],
   "source": [
    "data[data[\"Customer_Status\"] == \"Joined\"].Tenure_in_Months.value_counts().sum()"
   ]
  },
  {
   "cell_type": "markdown",
   "id": "9efb34d9",
   "metadata": {},
   "source": [
    "За последние три месяца количество новых клиентов телекоммуникационной компании составило 454 человека. "
   ]
  },
  {
   "cell_type": "code",
   "execution_count": 13,
   "id": "4ec4db88",
   "metadata": {},
   "outputs": [
    {
     "data": {
      "text/plain": [
       "Stayed     0.670169\n",
       "Churned    0.265370\n",
       "Joined     0.064461\n",
       "Name: Customer_Status, dtype: float64"
      ]
     },
     "execution_count": 13,
     "metadata": {},
     "output_type": "execute_result"
    }
   ],
   "source": [
    "data.Customer_Status.value_counts(normalize=True)"
   ]
  },
  {
   "cell_type": "markdown",
   "id": "419a2b43",
   "metadata": {},
   "source": [
    "Более 25 процентов клиентов в определенный момент отказались от услуг телекоммуникационной компаниии. "
   ]
  },
  {
   "cell_type": "code",
   "execution_count": 14,
   "id": "783bccb2",
   "metadata": {},
   "outputs": [
    {
     "data": {
      "text/plain": [
       "Competitor had better devices                313\n",
       "Competitor made better offer                 311\n",
       "Attitude of support person                   220\n",
       "Don't know                                   130\n",
       "Competitor offered more data                 117\n",
       "Competitor offered higher download speeds    100\n",
       "Attitude of service provider                  94\n",
       "Price too high                                78\n",
       "Product dissatisfaction                       77\n",
       "Network reliability                           72\n",
       "Name: Churn_Reason, dtype: int64"
      ]
     },
     "execution_count": 14,
     "metadata": {},
     "output_type": "execute_result"
    }
   ],
   "source": [
    "data.Churn_Reason.value_counts().head(10)"
   ]
  },
  {
   "cell_type": "markdown",
   "id": "0928c10a",
   "metadata": {},
   "source": [
    "Наиболее распространенными причинами отказов от услуг компании являются причины, связанные с тем, что у конкурента лучше устройства, либо же конкурент предлагает более подходящее предложение. В целом, причины, связанные с конкурентами составляют 4 из 6 первых наиболее распространенных среди случаев отказа от пользования услугами. Кроме того, важными причинами отказов стали отношение службы поддержки и отношение провайдера услуг. "
   ]
  },
  {
   "cell_type": "code",
   "execution_count": 15,
   "id": "9a0a8bb8",
   "metadata": {},
   "outputs": [
    {
     "data": {
      "text/plain": [
       "1     380\n",
       "2     123\n",
       "3      94\n",
       "4      83\n",
       "5      64\n",
       "7      51\n",
       "9      46\n",
       "10     45\n",
       "8      42\n",
       "6      40\n",
       "Name: Tenure_in_Months, dtype: int64"
      ]
     },
     "execution_count": 15,
     "metadata": {},
     "output_type": "execute_result"
    }
   ],
   "source": [
    "data[data[\"Customer_Status\"] == \"Churned\"].Tenure_in_Months.value_counts().head(10)"
   ]
  },
  {
   "cell_type": "markdown",
   "id": "1f08f79b",
   "metadata": {},
   "source": [
    "Чаще всего клиенты отказываются от услуг после 1-2 месяцев пользования услугами."
   ]
  },
  {
   "cell_type": "code",
   "execution_count": 51,
   "id": "777df10a",
   "metadata": {},
   "outputs": [
    {
     "data": {
      "image/png": "[encoded data removed]",
      "text/plain": [
       "<Figure size 504x360 with 1 Axes>"
      ]
     },
     "metadata": {},
     "output_type": "display_data"
    }
   ],
   "source": [
    "sns.histplot(data.Tenure_in_Months)\n",
    "plt.title(\"Distribution of tenure in months\", fontsize=15)\n",
    "plt.show()"
   ]
  },
  {
   "cell_type": "markdown",
   "id": "4fb39d3f",
   "metadata": {},
   "source": [
    "Из распределения количества месяцев, в течение которых клиенты пользовались услугами компании, следует, что большое количество клиентов отказываются от продолжения пользования услугами в первые несколько месяцев после начала взаимодействия с компанией. Однако стоит отметить, что количество клиентов, которые пользуются услугами на протяженни очень долгого времени, так же велико. Возможно, это те клиенты, которые начали пользоваться услугами в момент появления компании на рынке и продолжают пользоваться до сих пор. "
   ]
  },
  {
   "cell_type": "markdown",
   "id": "f9c92673",
   "metadata": {},
   "source": [
    "###  Сравнение профилей клиентов разных статусов"
   ]
  },
  {
   "cell_type": "markdown",
   "id": "5c0cca30",
   "metadata": {},
   "source": [
    "Необхоимо понять, какими характеристиками различаются люди, отказавшиеся от услут телекоммуникационной компании и оставшиеся ее клиентами."
   ]
  },
  {
   "cell_type": "code",
   "execution_count": 17,
   "id": "a2329a44",
   "metadata": {},
   "outputs": [
    {
     "data": {
      "text/plain": [
       "Customer_Status\n",
       "Churned    49.735688\n",
       "Joined     42.870044\n",
       "Stayed     45.582415\n",
       "Name: Age, dtype: float64"
      ]
     },
     "execution_count": 17,
     "metadata": {},
     "output_type": "execute_result"
    }
   ],
   "source": [
    "data.groupby(\"Customer_Status\").Age.mean()"
   ]
  },
  {
   "cell_type": "markdown",
   "id": "25109da5",
   "metadata": {},
   "source": [
    "Как видно, возраст тех клиентов, которые отказываются от услуг компании, в среднем выше, чем тех, кто остается с компанией."
   ]
  },
  {
   "cell_type": "code",
   "execution_count": 52,
   "id": "c42be894",
   "metadata": {},
   "outputs": [
    {
     "data": {
      "image/png": "[encoded data removed]",
      "text/plain": [
       "<Figure size 504x360 with 1 Axes>"
      ]
     },
     "metadata": {},
     "output_type": "display_data"
    }
   ],
   "source": [
    "sns.kdeplot(data = data, x = \"Age\", hue = \"Customer_Status\", fill = True)\n",
    "plt.title(\"Distribution of the client's age depending on the status\", fontsize=15)\n",
    "plt.show()"
   ]
  },
  {
   "cell_type": "markdown",
   "id": "2e1909db",
   "metadata": {},
   "source": [
    "Однако из графика распределений возраста клиентов в зависимости от их статуса следует, что возраст клиентов, отказавшихся от услуг компании, распределен равномерно. Можно предположить, что клиенты пожилого возраста в целом в меньшей степени нуждаются в услугах телекоммуникационной компании, поэтому реже продолжают пользоваться ее услугами. "
   ]
  },
  {
   "cell_type": "code",
   "execution_count": 15,
   "id": "63096953",
   "metadata": {},
   "outputs": [
    {
     "data": {
      "text/plain": [
       "Customer_Status  Married\n",
       "Churned          No         0.642055\n",
       "                 Yes        0.357945\n",
       "Joined           No         0.814978\n",
       "                 Yes        0.185022\n",
       "Stayed           Yes        0.561229\n",
       "                 No         0.438771\n",
       "Name: Married, dtype: float64"
      ]
     },
     "execution_count": 15,
     "metadata": {},
     "output_type": "execute_result"
    }
   ],
   "source": [
    "data.groupby(\"Customer_Status\").Married.value_counts(normalize=True)"
   ]
  },
  {
   "cell_type": "markdown",
   "id": "5b791908",
   "metadata": {},
   "source": [
    "Люди, которые не состоят в браке, гораздо чаще отказываются от пользования услугами компании. "
   ]
  },
  {
   "cell_type": "code",
   "execution_count": 12,
   "id": "2710a674",
   "metadata": {},
   "outputs": [
    {
     "data": {
      "text/plain": [
       "Customer_Status\n",
       "Churned    0.521134\n",
       "Joined     0.949339\n",
       "Stayed     2.614831\n",
       "Name: Number_of_Referrals, dtype: float64"
      ]
     },
     "execution_count": 12,
     "metadata": {},
     "output_type": "execute_result"
    }
   ],
   "source": [
    "data.groupby(\"Customer_Status\").Number_of_Referrals.mean()"
   ]
  },
  {
   "cell_type": "markdown",
   "id": "aba185fc",
   "metadata": {},
   "source": [
    "Клиенты, которые остаются с компанией, чаще рекомендуют ее услуги другим людям. "
   ]
  },
  {
   "cell_type": "code",
   "execution_count": 23,
   "id": "6220ffae",
   "metadata": {},
   "outputs": [
    {
     "data": {
      "text/plain": [
       "0     0.466737\n",
       "1     0.119492\n",
       "7     0.050212\n",
       "5     0.049576\n",
       "9     0.047034\n",
       "3     0.045551\n",
       "10    0.045551\n",
       "4     0.045551\n",
       "6     0.043644\n",
       "8     0.043220\n",
       "2     0.043008\n",
       "11    0.000424\n",
       "Name: Number_of_Referrals, dtype: float64"
      ]
     },
     "execution_count": 23,
     "metadata": {},
     "output_type": "execute_result"
    }
   ],
   "source": [
    "data[data.Customer_Status == \"Stayed\"].Number_of_Referrals.value_counts(normalize=True)"
   ]
  },
  {
   "cell_type": "markdown",
   "id": "4d0beb72",
   "metadata": {},
   "source": [
    "Более 50 процентов оставшихся клиентов рекомендуют компанию как минимум одному человеку. Можно предположить, что этим человеком оказывается супруг(-а) клиента. "
   ]
  },
  {
   "cell_type": "code",
   "execution_count": 31,
   "id": "e3b66aa6",
   "metadata": {},
   "outputs": [
    {
     "data": {
      "text/plain": [
       "Customer_Status  Internet_Service\n",
       "Churned          Yes                 0.939540\n",
       "                 No                  0.060460\n",
       "Joined           Yes                 0.599119\n",
       "                 No                  0.400881\n",
       "Stayed           Yes                 0.739195\n",
       "                 No                  0.260805\n",
       "Name: Internet_Service, dtype: float64"
      ]
     },
     "execution_count": 31,
     "metadata": {},
     "output_type": "execute_result"
    }
   ],
   "source": [
    "data.groupby(\"Customer_Status\").Internet_Service.value_counts(normalize=True)"
   ]
  },
  {
   "cell_type": "markdown",
   "id": "5d53a458",
   "metadata": {},
   "source": [
    "Подавляющее большинство ушедших клиентов были подписаны на дополнительную услугу, обеспечивающую доступ в интернет. При этом, из тех клиентов, которые остаются с компанией, интернетом пользуются менее 75 процентов. Возможно, условия или качество оказания услуг, связанных с обеспечением доступа в интернет, далеко не всегда соответствуют потребностям и ожиданиям клиентов."
   ]
  },
  {
   "cell_type": "code",
   "execution_count": 32,
   "id": "82418a10",
   "metadata": {},
   "outputs": [
    {
     "data": {
      "text/plain": [
       "Customer_Status  Online_Security\n",
       "Churned          No                 0.832005\n",
       "                 Yes                0.167995\n",
       "Joined           No                 0.830882\n",
       "                 Yes                0.169118\n",
       "Stayed           No                 0.519060\n",
       "                 Yes                0.480940\n",
       "Name: Online_Security, dtype: float64"
      ]
     },
     "execution_count": 32,
     "metadata": {},
     "output_type": "execute_result"
    }
   ],
   "source": [
    "data.groupby(\"Customer_Status\").Online_Security.value_counts(normalize=True)"
   ]
  },
  {
   "cell_type": "code",
   "execution_count": 48,
   "id": "5e89fceb",
   "metadata": {},
   "outputs": [
    {
     "data": {
      "text/plain": [
       "Customer_Status  Device_Protection_Plan\n",
       "Churned          No                        0.689636\n",
       "                 Yes                       0.310364\n",
       "Joined           No                        0.882353\n",
       "                 Yes                       0.117647\n",
       "Stayed           Yes                       0.528805\n",
       "                 No                        0.471195\n",
       "Name: Device_Protection_Plan, dtype: float64"
      ]
     },
     "execution_count": 48,
     "metadata": {},
     "output_type": "execute_result"
    }
   ],
   "source": [
    "data.groupby(\"Customer_Status\").Device_Protection_Plan.value_counts(normalize=True)"
   ]
  },
  {
   "cell_type": "markdown",
   "id": "326278be",
   "metadata": {},
   "source": [
    "Клиенты, которые дольше взаимодействуют с компанией, чаще подписываются на различные услуги, связанные с безопасностью и защитой. Однако, скорее, это связано с фактом их долгого опыта взаимодействия с компанией: такие клиенты рано или поздно задумываются над подключением таких дополнительных услуг, о которых не думают в первую очередь в самом начале пути взаимодействия с телекоммуникационной компанией."
   ]
  },
  {
   "cell_type": "code",
   "execution_count": 109,
   "id": "84ca1c6d",
   "metadata": {},
   "outputs": [
    {
     "data": {
      "text/plain": [
       "Customer_Status\n",
       "Churned    73.347592\n",
       "Joined     42.775991\n",
       "Stayed     61.737415\n",
       "Name: Monthly_Charge, dtype: float64"
      ]
     },
     "execution_count": 109,
     "metadata": {},
     "output_type": "execute_result"
    }
   ],
   "source": [
    "data.groupby(\"Customer_Status\").Monthly_Charge.mean()"
   ]
  },
  {
   "cell_type": "markdown",
   "id": "41de72c8",
   "metadata": {},
   "source": [
    "В среднем клиенты, которые прекратили пользоваться услугами компании, в момент своего взаимодействия с ней выбирали более дорогие тарифы."
   ]
  },
  {
   "cell_type": "code",
   "execution_count": 25,
   "id": "856fe881",
   "metadata": {},
   "outputs": [],
   "source": [
    "data[\"Avg_revenue\"] = data.Total_Revenue / data.Tenure_in_Months"
   ]
  },
  {
   "cell_type": "code",
   "execution_count": 47,
   "id": "9e0a8a43",
   "metadata": {},
   "outputs": [
    {
     "data": {
      "text/plain": [
       "Customer_Status\n",
       "Churned    98.330990\n",
       "Joined     67.404692\n",
       "Stayed     86.069473\n",
       "Name: Avg_revenue, dtype: float64"
      ]
     },
     "execution_count": 47,
     "metadata": {},
     "output_type": "execute_result"
    }
   ],
   "source": [
    "data.groupby(\"Customer_Status\").Avg_revenue.mean()"
   ]
  },
  {
   "cell_type": "markdown",
   "id": "c2251a1c",
   "metadata": {},
   "source": [
    "В среднем каждый ушедший клиент приносил больше прибыли в месяц по сравнению с постоянными клиентами. Однако, возможно, причина ухода в некоторых случаях состояла именно в более цене тарифа с учетом необходимых клиенту сервисов по сравнению с конкурентами."
   ]
  },
  {
   "cell_type": "code",
   "execution_count": 54,
   "id": "68f03bec",
   "metadata": {},
   "outputs": [
    {
     "data": {
      "text/plain": [
       "Customer_Status  Offer  \n",
       "Churned          None       1051\n",
       "                 Offer E     426\n",
       "                 Offer D     161\n",
       "                 Offer B     101\n",
       "                 Offer C      95\n",
       "                 Offer A      35\n",
       "Joined           None        279\n",
       "                 Offer E     175\n",
       "Stayed           None       2547\n",
       "                 Offer B     723\n",
       "                 Offer A     485\n",
       "                 Offer D     441\n",
       "                 Offer C     320\n",
       "                 Offer E     204\n",
       "Name: Offer, dtype: int64"
      ]
     },
     "execution_count": 54,
     "metadata": {},
     "output_type": "execute_result"
    }
   ],
   "source": [
    "data.groupby(\"Customer_Status\").Offer.value_counts()"
   ]
  },
  {
   "cell_type": "markdown",
   "id": "819e58cb",
   "metadata": {},
   "source": [
    "В данных также представлена информация о последнем маркетинговом предложении, которое принял клиент. Можно отметить, что клиенты, которые отказались от пользования услугами компании, принимали предложение \"Е\" чаще, чем все остальные. При этом для клиентов, которые продолжили их взаимодействие с компанием, такое предложение оказалось наименее популярным. Можно предположить, что возможный негативный опыт клиентов от пользования предложением \"Е\" повлиял на их дальнейшее решение об отказе от услуг компании. Стоит пересмотреть содержание маркетинговых предложений и отказаться от наименее эффективных."
   ]
  },
  {
   "cell_type": "markdown",
   "id": "78c9bcdd",
   "metadata": {},
   "source": [
    "### Выводы \n",
    "\n",
    "1. Из тех клиентов, которые в определенный момент отказываются от услуг телекоммуникационной компании, многие принимают подобное решение в первые два месяца взаимодействия с компанией. Необходимо повысить качество взаимодействия с клиентом на начальном этапе взаимодействия с ним.\n",
    "\n",
    "2. Большое количество причин ухода клиентов связано с конкурентами (у конкурента лучше устройства, конкурент предлагает более подходящее предложение, у конкурента более высокая скорость загрузки данных). Необходимо проанализировать предложения конкурентов и разработать собственное новое предложение, обладающее преимуществами на фоне предложений остальных компаний. В процессе анализа сделан вывод о низком качестве предоставления интернет услуг, которое может играть важную роль во многих случаях отказа от услуг компании: большинство клиентов, принявших решение прекратить пользование услугами, были подписаны на дополнительную услугу, обеспечивающую доступ в интернет, в то время как среди оставшихся клиентов доля людей, пользующихся такой услугой оказалась ниже. \n",
    "\n",
    "3. Были выявлены проблемы с качеством взаимодействия с клиентом. Некоторые ушедшие клиенты были неудовлетворены отношением провайдера и службы поддержки к клиентам. В первые месяцы взаимодействия с компанией у клиентов может возникать большое количество вопросов, которые необходимо вовремя и качественно решать. Стоит разработать (усовершенствовать) систему контроля за действиями специалистов службы поддержки в процессе общения с клиентами.\n",
    "\n",
    "4. Оставшиеся с компанией клиенты в более 50 процентов случаев рекомендуют компанию как минимум одному человеку (возможно, часто этим человеком оказывается супруг(-а) клиента). Стоит подумать над предложением дополнительных преимуществ тем, кто рекомендует компанию своим близким или знакомыми. \n",
    "\n",
    "5. Ушедшие клиенты выбирали более дорогие тарифы. В среднем отдельный ушедший клиент приносил больше прибыли в месяц, чем постоянный клиент. Выходит, что из компании уходят клиенты, которые готовы платить, но при условии, что оказываемые услуги будут соответствовать их потребностям и ожиданиям. Возвращаемся к пункту 2 и 3, которые определяют основные существующие проблемы, решение которых может способствовать улучшению возможностей удержания клиентов на раннем этапе их взаимодействия с компанией."
   ]
  },
  {
   "cell_type": "code",
   "execution_count": null,
   "id": "f682588d",
   "metadata": {},
   "outputs": [],
   "source": []
  }
 ],
 "metadata": {
  "kernelspec": {
   "display_name": "Python 3 (ipykernel)",
   "language": "python",
   "name": "python3"
  },
  "language_info": {
   "codemirror_mode": {
    "name": "ipython",
    "version": 3
   },
   "file_extension": ".py",
   "mimetype": "text/x-python",
   "name": "python",
   "nbconvert_exporter": "python",
   "pygments_lexer": "ipython3",
   "version": "3.7.13"
  }
 },
 "nbformat": 4,
 "nbformat_minor": 5
}
